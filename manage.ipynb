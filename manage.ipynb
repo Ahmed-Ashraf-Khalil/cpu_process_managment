{
 "cells": [
  {
   "cell_type": "markdown",
   "metadata": {},
   "source": [
    "# Importing the tools"
   ]
  },
  {
   "cell_type": "code",
   "execution_count": 60,
   "metadata": {},
   "outputs": [],
   "source": [
    "import copy\n",
    "import time"
   ]
  },
  {
   "cell_type": "markdown",
   "metadata": {},
   "source": [
    "# Get input from user"
   ]
  },
  {
   "cell_type": "code",
   "execution_count": 61,
   "metadata": {},
   "outputs": [
    {
     "name": "stdin",
     "output_type": "stream",
     "text": [
      "number of processors :  3\n",
      "arrival time of the process 1 is :  3\n",
      "arrival time of the process 2 is :  2\n",
      "arrival time of the process 3 is :  1\n",
      "brust time of process 1 is :  4\n",
      "brust time of process 2 is :  5\n",
      "brust time of process 3 is :  6\n",
      "do you have quantum (y/n)? :  y\n",
      "your quantum :  3\n"
     ]
    }
   ],
   "source": [
    "processor_nums = int(input(\"number of processors : \"))\n",
    "processors = []\n",
    "\n",
    "for i in range(1,processor_nums+1):\n",
    "    processors.append({\"id\":i})\n",
    "    \n",
    "for i in processors : \n",
    "    i[\"at\"] = int(input(\"arrival time of the process {} is : \".format(i[\"id\"])))\n",
    "        \n",
    "for i in processors:\n",
    "    i[\"bt\"] = int(input(\"brust time of process {} is : \".format(i[\"id\"])))\n",
    "    \n",
    "pri=input(\"do you have quantum (y/n)? : \")\n",
    "\n",
    "if pri == \"y\":\n",
    "    quantum = int(input(\"your quantum : \"))\n"
   ]
  },
  {
   "cell_type": "code",
   "execution_count": 67,
   "metadata": {},
   "outputs": [
    {
     "name": "stdout",
     "output_type": "stream",
     "text": [
      "your table : \n",
      "{'id': 1, 'at': 3, 'bt': 4}\n",
      "{'id': 2, 'at': 2, 'bt': 5}\n",
      "{'id': 3, 'at': 1, 'bt': 6}\n",
      "------------------------------\n",
      "your quantum :  3\n",
      "setup done\n"
     ]
    }
   ],
   "source": [
    "# preview the process table\n",
    "print(\"your table : \")\n",
    "for i in processors:\n",
    "    print(i)\n",
    "print(\"------------------------------\")\n",
    "try:\n",
    "    print(\"your quantum : \",quantum)\n",
    "    print(\"setup done\")\n",
    "except:\n",
    "    print(\"setup done\")"
   ]
  },
  {
   "cell_type": "code",
   "execution_count": 63,
   "metadata": {},
   "outputs": [],
   "source": [
    "# calculate average waiting time and average brust time :\n",
    "def avg_wt_tat(data):\n",
    "    for dct in data:\n",
    "        dct['tat'] = dct['ct'] - dct['at']\n",
    "        dct['wt'] = dct['tat'] - dct['bt']\n",
    "    tot_wt = tot_tat = 0\n",
    "    for dct in data:\n",
    "        tot_wt += dct['wt']\n",
    "        tot_tat += dct['tat']\n",
    "    ln = len(data)\n",
    "    return f\"average_brust_time : {int(tot_tat/ln)}, average_waiting_time : {int(tot_wt/ln)}\""
   ]
  },
  {
   "cell_type": "code",
   "execution_count": 64,
   "metadata": {},
   "outputs": [],
   "source": [
    "# sort processes by first come first serve method :\n",
    "def first_come_first_serve(data):\n",
    "    arrival_time = []\n",
    "    indx = 0\n",
    "    for i in data:\n",
    "        arrival_time.append([i['at'], i['id'], indx])\n",
    "        indx += 1\n",
    "    arrival_time.sort()\n",
    "    curr_time = 0\n",
    "    for val in arrival_time:\n",
    "        if data[val[2]]['at'] > curr_time:\n",
    "            curr_time += data[val[2]]['at'] - curr_time\n",
    "        curr_time += data[val[2]]['bt']\n",
    "        data[val[2]]['ct'] = curr_time\n",
    "    return data"
   ]
  },
  {
   "cell_type": "code",
   "execution_count": 65,
   "metadata": {},
   "outputs": [],
   "source": [
    "# sort processes by round robin method :\n",
    "def round_robin(data, tq):\n",
    "    rr = []\n",
    "    indx = 0\n",
    "    curr_time = 0\n",
    "    flag = True\n",
    "    for dct in data:\n",
    "        rr.append([dct['at'], dct['bt'], indx])\n",
    "        indx += 1\n",
    "    while flag:\n",
    "        for i in range(len(rr)):\n",
    "            bt = rr[i][1]\n",
    "            if bt != 0 and rr[i][0] < curr_time or curr_time == 0:\n",
    "                if bt > tq:\n",
    "                    rr[i][1] -= tq\n",
    "                    curr_time += tq\n",
    "                else:\n",
    "                    rr[i][1] = 0\n",
    "                    curr_time += bt\n",
    "                    data[rr[i][2]]['ct'] = curr_time\n",
    "        flg = True\n",
    "        for i in rr:\n",
    "            if not i[1] == 0:\n",
    "                flg = False\n",
    "        if flg:\n",
    "            flag = False\n",
    "    return data"
   ]
  },
  {
   "cell_type": "code",
   "execution_count": 66,
   "metadata": {},
   "outputs": [
    {
     "name": "stdout",
     "output_type": "stream",
     "text": [
      "1. round robin\n",
      "2. fcfs\n",
      "3. Quit\n",
      "\n"
     ]
    },
    {
     "name": "stdin",
     "output_type": "stream",
     "text": [
      "submit :  1\n"
     ]
    },
    {
     "name": "stdout",
     "output_type": "stream",
     "text": [
      "------------------------------------------\n",
      "\n",
      "process sorted :  [1, 2, 3] \n",
      "\n",
      "average_brust_time : 10, average_waiting_time : 5\n"
     ]
    },
    {
     "name": "stdin",
     "output_type": "stream",
     "text": [
      "submit :  2\n"
     ]
    },
    {
     "name": "stdout",
     "output_type": "stream",
     "text": [
      "------------------------------------------\n",
      "\n",
      "process sorted :  [1, 2, 3] \n",
      "\n",
      "average_brust_time : 9, average_waiting_time : 4\n"
     ]
    },
    {
     "name": "stdin",
     "output_type": "stream",
     "text": [
      "submit :  3\n"
     ]
    },
    {
     "name": "stdout",
     "output_type": "stream",
     "text": [
      "------------------------------------------\n",
      "\n",
      "Thanks for your time\n"
     ]
    }
   ],
   "source": [
    "print(\"1. round robin\")\n",
    "print(\"2. fcfs\")\n",
    "print(\"3. Quit\\n\")\n",
    "\n",
    "while True:\n",
    "    inp = int(input(\"submit : \"))\n",
    "    print(\"------------------------------------------\\n\")\n",
    "        \n",
    "    if inp == 1:\n",
    "        processors_2 = copy.deepcopy(processors)\n",
    "        sor = []\n",
    "        data = round_robin(processors_2,quantum)\n",
    "        data2 = avg_wt_tat(data)\n",
    "        for i in processors:\n",
    "            sor.append(i[\"id\"])\n",
    "        \n",
    "        print(\"process sorted : \",sor,\"\\n\")\n",
    "        print(data2)\n",
    "    \n",
    "    if inp == 2:\n",
    "        processors_2 = copy.deepcopy(processors)\n",
    "        sor = []\n",
    "        data = first_come_first_serve(processors_2)\n",
    "        data2 = avg_wt_tat(data)\n",
    "        for i in processors:\n",
    "            sor.append(i[\"id\"])\n",
    "        \n",
    "        print(\"process sorted : \",sor,\"\\n\")\n",
    "        print(data2)\n",
    "        \n",
    "    if inp == 3:\n",
    "        print(\"Thanks for your time\")\n",
    "        time.sleep(3)\n",
    "        \n",
    "        break"
   ]
  },
  {
   "cell_type": "code",
   "execution_count": 52,
   "metadata": {},
   "outputs": [],
   "source": []
  },
  {
   "cell_type": "code",
   "execution_count": null,
   "metadata": {},
   "outputs": [],
   "source": []
  }
 ],
 "metadata": {
  "kernelspec": {
   "display_name": "Python 3",
   "language": "python",
   "name": "python3"
  },
  "language_info": {
   "codemirror_mode": {
    "name": "ipython",
    "version": 3
   },
   "file_extension": ".py",
   "mimetype": "text/x-python",
   "name": "python",
   "nbconvert_exporter": "python",
   "pygments_lexer": "ipython3",
   "version": "3.6.5"
  }
 },
 "nbformat": 4,
 "nbformat_minor": 4
}
