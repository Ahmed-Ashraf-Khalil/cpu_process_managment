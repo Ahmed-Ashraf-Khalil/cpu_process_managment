{
 "cells": [
  {
   "cell_type": "code",
   "execution_count": 1,
   "metadata": {},
   "outputs": [],
   "source": [
    "# calculate average waiting time and average brust time :\n",
    "def avg_wt_tat(data):\n",
    "    for dct in data:\n",
    "        dct['tat'] = dct['ct'] - dct['at']\n",
    "        dct['wt'] = dct['tat'] - dct['bt']\n",
    "    tot_wt = tot_tat = 0\n",
    "    for dct in data:\n",
    "        tot_wt += dct['wt']\n",
    "        tot_tat += dct['tat']\n",
    "    ln = len(data)\n",
    "    return {'avg_brust_time': tot_tat/ln, 'avg_waiting_time': tot_wt/ln}"
   ]
  },
  {
   "cell_type": "code",
   "execution_count": 2,
   "metadata": {},
   "outputs": [],
   "source": [
    "# sort processes by first come first serve method :\n",
    "def first_come_first_serve(data):\n",
    "    arrival_time = []\n",
    "    indx = 0\n",
    "    for i in data:\n",
    "        arrival_time.append([i['at'], i['id'], indx])\n",
    "        indx += 1\n",
    "    arrival_time.sort()\n",
    "    curr_time = 0\n",
    "    for val in arrival_time:\n",
    "        if data[val[2]]['at'] > curr_time:\n",
    "            curr_time += data[val[2]]['at'] - curr_time\n",
    "        curr_time += data[val[2]]['bt']\n",
    "        data[val[2]]['ct'] = curr_time\n",
    "    return data"
   ]
  },
  {
   "cell_type": "code",
   "execution_count": 3,
   "metadata": {},
   "outputs": [
    {
     "name": "stdin",
     "output_type": "stream",
     "text": [
      "number of processes :  3\n",
      "arrival time of the process 1 is :  1\n",
      "arrival time of the process 2 is :  2\n",
      "arrival time of the process 3 is :  3\n",
      "brust time of process 1 is :  5\n",
      "brust time of process 2 is :  6\n",
      "brust time of process 3 is :  7\n"
     ]
    }
   ],
   "source": [
    "processor_nums = int(input(\"number of processes : \"))\n",
    "processors = []\n",
    "for i in range(1,processor_nums+1):\n",
    "    processors.append({\"id\":i})\n",
    "    \n",
    "for i in processors : \n",
    "    i[\"at\"] = int(input(\"arrival time of the process {} is : \".format(i[\"id\"])))\n",
    "        \n",
    "for i in processors:\n",
    "    i[\"bt\"] = int(input(\"brust time of process {} is : \".format(i[\"id\"])))\n"
   ]
  },
  {
   "cell_type": "code",
   "execution_count": 4,
   "metadata": {},
   "outputs": [
    {
     "name": "stdout",
     "output_type": "stream",
     "text": [
      "your table : \n",
      "{'id': 1, 'at': 1, 'bt': 5}\n",
      "{'id': 2, 'at': 2, 'bt': 6}\n",
      "{'id': 3, 'at': 3, 'bt': 7}\n"
     ]
    }
   ],
   "source": [
    "print(\"your table : \")\n",
    "for i in processors:\n",
    "    print(i)"
   ]
  },
  {
   "cell_type": "code",
   "execution_count": 5,
   "metadata": {},
   "outputs": [
    {
     "name": "stdout",
     "output_type": "stream",
     "text": [
      "process sorted :  [1, 2, 3] \n",
      "\n",
      "{'avg_brust_time': 10.333333333333334, 'avg_waiting_time': 4.333333333333333}\n"
     ]
    }
   ],
   "source": [
    "sort = []\n",
    "data = first_come_first_serve(processors)\n",
    "data2 = avg_wt_tat(data)\n",
    "for i in processors:\n",
    "    sort.append(i[\"id\"])\n",
    "\n",
    "print(\"process sorted : \",sort,\"\\n\")\n",
    "print(data2)"
   ]
  },
  {
   "cell_type": "code",
   "execution_count": null,
   "metadata": {},
   "outputs": [],
   "source": []
  }
 ],
 "metadata": {
  "kernelspec": {
   "display_name": "Python 3",
   "language": "python",
   "name": "python3"
  },
  "language_info": {
   "codemirror_mode": {
    "name": "ipython",
    "version": 3
   },
   "file_extension": ".py",
   "mimetype": "text/x-python",
   "name": "python",
   "nbconvert_exporter": "python",
   "pygments_lexer": "ipython3",
   "version": "3.6.5"
  }
 },
 "nbformat": 4,
 "nbformat_minor": 4
}
